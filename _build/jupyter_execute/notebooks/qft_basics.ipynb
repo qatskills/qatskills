{
 "cells": [
  {
   "cell_type": "markdown",
   "metadata": {},
   "source": [
    "# Placeholder Notebook\n",
    "This notebook will eventually contain hands-on content for this blog post."
   ]
  }
 ],
 "metadata": {},
 "nbformat": 4,
 "nbformat_minor": 4
}